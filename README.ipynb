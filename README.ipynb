# exercisedata.py
Import the numpy library as np
import numpy as np
Create two integer matrices using random generator. A is a matrix of size 3 x 4. B is
a = np.random.random(12)
A = a.reshape(3,4)
A
array([[0.27052759, 0.0628123 , 0.75480936, 0.59180474],
            [0.71279689, 0.11841114, 0.38162928, 0.26323643],
            [0.79275438, 0.66389915, 0.84164971, 0.9562773 ]])
b = np.random.random(8)
B = b.reshape(4,2)
B
     array([[0.33566374, 0.01668554],
            [0.12997592, 0.088255  ],
            [0.60009088, 0.78417515],
            [0.09375409, 0.48152907]])
Multiply the two matrices A and B, assign to varialbe C and display C.
C = np.dot(A, B)
C
     array([[0.60740872, 0.88693134],
            [0.50834241, 0.44836398],
            [0.94711102, 1.19229607]])
Extract the first column of matrix C and assign to variable C1.
C1 = C[:,0]
C1
array([0.60740872, 0.50834241, 0.94711102])
Extract the last column of matrix C and assign to variable C2.
C2 = C[:,1]
C2
     array([0.88693134, 0.44836398, 1.19229607])
Modify one of the element in matrix C2.
C2[0] = 5
#TODO: Display matrix C. What conclusion you can made from this?
C2
#Changing the element in the array require us to specify the place of the index value.
     array([5.        , 0.44836398, 1.19229607])
Create a zeros matrix with size 3 x 4 and assign to variable D
d = np.zeros(12)
D = d.reshape(3,4)
D
     array([[0., 0., 0., 0.],
            [0., 0., 0., 0.],
            [0., 0., 0., 0.]])
Display the the size and shape of D
D.size
12
D.shape
     (3, 4)
#TODO: Replace the elements with the following value. E.g. (1,2)=3 means replace element (1,2
# (1,1)=10, (1, 2) = 25, (2,3) = 1, (2, 1)=7.
D[1,1] = 10
D[1,2] = 25
D[2,3] = 1
D[2,1] = 7
#TODO: Display all the elements in matrix D by using a for loop
for item in D:
print(item)
     [0. 0. 0. 0.]
     [ 0. 10. 25.  0.]
     [0. 7. 0. 1.]

Transpose matrix D.
D.transpose()
     array([[ 0.,  0.,  0.],
            [ 0., 10.,  7.],
            [ 0., 25.,  0.],
            [ 0.,  0.,  1.]])
