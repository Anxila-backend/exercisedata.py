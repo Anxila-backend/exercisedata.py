import numpy as np
#define W1, W2, W3 for the weight matrices in three layers
W1 = np.array([(0.2, 0.4, 0.5), [0.3, 0.6, 0.7], (0.4, 0.8, 0.3)])
W2 = np.array(((-0.7, 0.6, 0.2, 0.7), (-0.3, 0.7, 0.2, 0.8)))
W3 = np.array([0.1, 0.8, 0.5])
print("The W1 Array is: ", W1)
print("The W2 Array is: ", W2)
print("The W3 Array is: ", W3)
     The W1 Array is:  [[0.2 0.4 0.5]
      [0.3 0.6 0.7]
      [0.4 0.8 0.3]]
     The W2 Array is:  [[-0.7  0.6  0.2  0.7]
      [-0.3  0.7  0.2  0.8]]
     The W3 Array is:  [0.1 0.8 0.5]
#define input matrix X
x = np.array([-1,0.3,0.7])
X = x.reshape(3,1)
X
print("input matrix X: ", X)
     input matrix X:  [[-1. ]
      [ 0.3]
      [ 0.7]]
#compute the I1, Y1
I1 = np.dot(W1,X)
print("value of I1: ", I1)
Y1 = np.tanh(I1)
print("value of Y1: ", Y1)
     value of I1:  [[0.27]
      [0.37]
      [0.05]]
     value of Y1:  [[0.26362484]
      [0.35399171]
      [0.04995837]]
#compute the I2, Y2
i2 = np.append(-1,I1)
I2 = np.dot(W2,i2)
print("value of I2: ", I2)
Y2 = np.tanh(I2)
print("value of Y2: ", Y2)
     value of I2:  [0.971 0.603]
     value of Y2:  [0.7491434  0.53918086]
#compute the I3, Y3
i3 = np.append(-1,Y2)
I3 = np.dot(W3,i3)
print("value of I3: ", I3)
Y3 = np.tanh(I3)
print("value of Y3: ", Y3)
     value of I3:  0.7689051499892086
     value of Y3:  0.6462923635663378
